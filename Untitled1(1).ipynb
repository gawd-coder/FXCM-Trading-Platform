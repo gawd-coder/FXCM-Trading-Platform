{
  "nbformat": 4,
  "nbformat_minor": 0,
  "metadata": {
    "colab": {
      "name": "Untitled1.ipynb",
      "provenance": [],
      "collapsed_sections": []
    },
    "kernelspec": {
      "name": "python3",
      "display_name": "Python 3"
    }
  },
  "cells": [
    {
      "cell_type": "markdown",
      "metadata": {
        "id": "zueQtM4CUvr_",
        "colab_type": "text"
      },
      "source": [
        "The subsequent covers the basic functionalities of the ***FXCM trading API*** and\n",
        "the ***fxcmpy Python package*** required to implement an automated\n",
        "algorithmic trading strategy programmatically."
      ]
    },
    {
      "cell_type": "code",
      "metadata": {
        "id": "mcaRI4YGU_rM",
        "colab_type": "code",
        "colab": {}
      },
      "source": [
        "import fxcmpy\n",
        "api = fxcmpy.fxcmpy(access_token = 'a5050ebd0239a2b0c11486e84054a952fd4fb0c9', log_level='error')"
      ],
      "execution_count": null,
      "outputs": []
    },
    {
      "cell_type": "markdown",
      "metadata": {
        "id": "2OdjzSnxeSR0",
        "colab_type": "text"
      },
      "source": [
        "***Retrieving Tick Data -***\n",
        "FXCM provides access to historical market price data sets, such as tick\n",
        "data, in a pre-packaged variant. This means that one can retrieve, for\n",
        "instance, compressed files from FXCM servers that contain tick data for the\n",
        "EUR/USD exchange rate for week 26 of 2018, as described in the following\n",
        "subsection"
      ]
    },
    {
      "cell_type": "code",
      "metadata": {
        "id": "LtBqio6AYNB6",
        "colab_type": "code",
        "colab": {}
      },
      "source": [
        "import time \n",
        "import numpy as np\n",
        "import pandas as pd\n",
        "import datetime as dt\n",
        "from pylab import mpl, plt\n",
        "plt.style.use('seaborn')\n",
        "mpl.rcParams['font.family'] = 'serif'\n",
        "%matplotlib inline"
      ],
      "execution_count": null,
      "outputs": []
    },
    {
      "cell_type": "markdown",
      "metadata": {
        "id": "GGF-PGQbFW3x",
        "colab_type": "text"
      },
      "source": [
        "a look at the available symbols (currency pairs) for which tick data\n",
        "is available:"
      ]
    },
    {
      "cell_type": "code",
      "metadata": {
        "id": "ept-0pQ0evtq",
        "colab_type": "code",
        "colab": {
          "base_uri": "https://localhost:8080/",
          "height": 54
        },
        "outputId": "9c18442d-4409-4116-f0da-99b94886b3e5"
      },
      "source": [
        "from fxcmpy import fxcmpy_tick_data_reader as tdr\n",
        "print (tdr.get_available_symbols())"
      ],
      "execution_count": null,
      "outputs": [
        {
          "output_type": "stream",
          "text": [
            "('AUDCAD', 'AUDCHF', 'AUDJPY', 'AUDNZD', 'CADCHF', 'EURAUD', 'EURCHF', 'EURGBP', 'EURJPY', 'EURUSD', 'GBPCHF', 'GBPJPY', 'GBPNZD', 'GBPUSD', 'GBPCHF', 'GBPJPY', 'GBPNZD', 'NZDCAD', 'NZDCHF', 'NZDJPY', 'NZDUSD', 'USDCAD', 'USDCHF', 'USDJPY')\n"
          ],
          "name": "stdout"
        }
      ]
    },
    {
      "cell_type": "markdown",
      "metadata": {
        "id": "_tz-Hiy1fCKk",
        "colab_type": "text"
      },
      "source": [
        "The following code retrieves one week’s worth of tick data for a single\n",
        "symbol. The resulting *pandas DataFrame* object has more than 1.5 million\n",
        "data rows:"
      ]
    },
    {
      "cell_type": "code",
      "metadata": {
        "id": "X1hlO_uwe8lP",
        "colab_type": "code",
        "colab": {
          "base_uri": "https://localhost:8080/",
          "height": 173
        },
        "outputId": "4e8499ac-9d99-43fe-faef-09fdfc3efd50"
      },
      "source": [
        "#This retrieves the data file, unpacks it, and stores the raw data in a DataFrame object\n",
        "start = dt.datetime(2016, 6, 25)\n",
        "stop = dt.datetime(2016, 6, 30)\n",
        "td = tdr('EURUSD', start, stop)\n",
        "#The td.get_raw_data() method returns the DataFrame object with the raw data; i.e., with the index values still being str objects.\n",
        "td.get_raw_data().info()"
      ],
      "execution_count": null,
      "outputs": [
        {
          "output_type": "stream",
          "text": [
            "<class 'pandas.core.frame.DataFrame'>\n",
            "Index: 1692288 entries, 06/19/2016 21:00:00.161 to 06/24/2016 20:59:00.021\n",
            "Data columns (total 2 columns):\n",
            " #   Column  Dtype  \n",
            "---  ------  -----  \n",
            " 0   Bid     float64\n",
            " 1   Ask     float64\n",
            "dtypes: float64(2)\n",
            "memory usage: 38.7+ MB\n"
          ],
          "name": "stdout"
        }
      ]
    },
    {
      "cell_type": "code",
      "metadata": {
        "id": "LTv13T6VGnFf",
        "colab_type": "code",
        "colab": {
          "base_uri": "https://localhost:8080/",
          "height": 173
        },
        "outputId": "e493b994-a4d7-4d63-e84d-940c15a4eb3d"
      },
      "source": [
        "#The td.get_data() method returns a DataFrame object for which the index has been transformed to a DatetimeIndex .\n",
        "td.get_data().info()"
      ],
      "execution_count": null,
      "outputs": [
        {
          "output_type": "stream",
          "text": [
            "<class 'pandas.core.frame.DataFrame'>\n",
            "DatetimeIndex: 1692288 entries, 2016-06-19 21:00:00.161000 to 2016-06-24 20:59:00.021000\n",
            "Data columns (total 2 columns):\n",
            " #   Column  Dtype  \n",
            "---  ------  -----  \n",
            " 0   Bid     float64\n",
            " 1   Ask     float64\n",
            "dtypes: float64(2)\n",
            "memory usage: 38.7 MB\n"
          ],
          "name": "stdout"
        }
      ]
    },
    {
      "cell_type": "code",
      "metadata": {
        "id": "956AcOjwGrBq",
        "colab_type": "code",
        "colab": {
          "base_uri": "https://localhost:8080/",
          "height": 206
        },
        "outputId": "1e4e44d6-37e7-441f-9890-422d78e61ecb"
      },
      "source": [
        "td.get_data().head()"
      ],
      "execution_count": null,
      "outputs": [
        {
          "output_type": "execute_result",
          "data": {
            "text/html": [
              "<div>\n",
              "<style scoped>\n",
              "    .dataframe tbody tr th:only-of-type {\n",
              "        vertical-align: middle;\n",
              "    }\n",
              "\n",
              "    .dataframe tbody tr th {\n",
              "        vertical-align: top;\n",
              "    }\n",
              "\n",
              "    .dataframe thead th {\n",
              "        text-align: right;\n",
              "    }\n",
              "</style>\n",
              "<table border=\"1\" class=\"dataframe\">\n",
              "  <thead>\n",
              "    <tr style=\"text-align: right;\">\n",
              "      <th></th>\n",
              "      <th>Bid</th>\n",
              "      <th>Ask</th>\n",
              "    </tr>\n",
              "  </thead>\n",
              "  <tbody>\n",
              "    <tr>\n",
              "      <th>2016-06-19 21:00:00.161</th>\n",
              "      <td>1.13316</td>\n",
              "      <td>1.13375</td>\n",
              "    </tr>\n",
              "    <tr>\n",
              "      <th>2016-06-19 21:00:00.234</th>\n",
              "      <td>1.13317</td>\n",
              "      <td>1.13375</td>\n",
              "    </tr>\n",
              "    <tr>\n",
              "      <th>2016-06-19 21:00:01.188</th>\n",
              "      <td>1.13317</td>\n",
              "      <td>1.13386</td>\n",
              "    </tr>\n",
              "    <tr>\n",
              "      <th>2016-06-19 21:00:01.264</th>\n",
              "      <td>1.13315</td>\n",
              "      <td>1.13386</td>\n",
              "    </tr>\n",
              "    <tr>\n",
              "      <th>2016-06-19 21:00:01.781</th>\n",
              "      <td>1.13312</td>\n",
              "      <td>1.13386</td>\n",
              "    </tr>\n",
              "  </tbody>\n",
              "</table>\n",
              "</div>"
            ],
            "text/plain": [
              "                             Bid      Ask\n",
              "2016-06-19 21:00:00.161  1.13316  1.13375\n",
              "2016-06-19 21:00:00.234  1.13317  1.13375\n",
              "2016-06-19 21:00:01.188  1.13317  1.13386\n",
              "2016-06-19 21:00:01.264  1.13315  1.13386\n",
              "2016-06-19 21:00:01.781  1.13312  1.13386"
            ]
          },
          "metadata": {
            "tags": []
          },
          "execution_count": 14
        }
      ]
    },
    {
      "cell_type": "markdown",
      "metadata": {
        "id": "KdY9d2QdHQDs",
        "colab_type": "text"
      },
      "source": [
        "Since the tick data is stored in a DataFrame object, it is straightforward to\n",
        "pick a subset of the data and to implement typical financial analytics tasks\n",
        "on it."
      ]
    },
    {
      "cell_type": "code",
      "metadata": {
        "id": "l_NhPxcEG77X",
        "colab_type": "code",
        "colab": {
          "base_uri": "https://localhost:8080/",
          "height": 34
        },
        "outputId": "411a7f74-2604-4341-e459-2b288e8254da"
      },
      "source": [
        "sub = td.get_data(start='2016-06-19 21:00:00', end='2016-06-19 23:15:00')\n",
        "sub.shape"
      ],
      "execution_count": null,
      "outputs": [
        {
          "output_type": "execute_result",
          "data": {
            "text/plain": [
              "(11695, 2)"
            ]
          },
          "metadata": {
            "tags": []
          },
          "execution_count": 37
        }
      ]
    },
    {
      "cell_type": "code",
      "metadata": {
        "id": "ia8yLet_Hf-G",
        "colab_type": "code",
        "colab": {
          "base_uri": "https://localhost:8080/",
          "height": 362
        },
        "outputId": "9a075843-1d50-4f35-c2b9-ce5e98fded12"
      },
      "source": [
        "#Calculates the mid prices from the bid and ask prices.\n",
        "sub['Mid'] = sub.mean(axis = 1)\n",
        "#Derives SMA values over intervals of 1,000 ticks.\n",
        "sub['SMA'] = sub['Mid'].rolling(1000).mean()\n",
        "\n",
        "sub[['Mid', 'SMA']].plot(figsize=(10, 6), lw=0.75);"
      ],
      "execution_count": null,
      "outputs": [
        {
          "output_type": "display_data",
          "data": {
            "image/png": "[encoded data removed]",
            "text/plain": [
              "<Figure size 720x432 with 1 Axes>"
            ]
          },
          "metadata": {
            "tags": [],
            "needs_background": "light"
          }
        }
      ]
    },
    {
      "cell_type": "markdown",
      "metadata": {
        "id": "U0AzjegIKlJq",
        "colab_type": "text"
      },
      "source": [
        "***Retrieving Candles Data -***\n",
        "FXCM also provides access to historical candles data (beyond the API) —\n",
        "i.e., to data for certain homogeneous time intervals (“bars”) with open, high,\n",
        "low, and close values for both bid and ask prices.\n",
        "First, a look at the available symbols for which candles data is provided:"
      ]
    },
    {
      "cell_type": "code",
      "metadata": {
        "id": "cMuxQSwRJdiB",
        "colab_type": "code",
        "colab": {
          "base_uri": "https://localhost:8080/",
          "height": 54
        },
        "outputId": "b09055d7-b915-49c1-99da-3ebce8c39d2f"
      },
      "source": [
        "from fxcmpy import fxcmpy_candles_data_reader as cdr\n",
        "print (cdr.get_available_symbols())"
      ],
      "execution_count": null,
      "outputs": [
        {
          "output_type": "stream",
          "text": [
            "('AUDCAD', 'AUDCHF', 'AUDJPY', 'AUDNZD', 'CADCHF', 'EURAUD', 'EURCHF', 'EURGBP', 'EURJPY', 'EURUSD', 'GBPCHF', 'GBPJPY', 'GBPNZD', 'GBPUSD', 'GBPCHF', 'GBPJPY', 'GBPNZD', 'NZDCAD', 'NZDCHF', 'NZDJPY', 'NZDUSD', 'USDCAD', 'USDCHF', 'USDJPY')\n"
          ],
          "name": "stdout"
        }
      ]
    },
    {
      "cell_type": "markdown",
      "metadata": {
        "id": "ts13R7psK2Mu",
        "colab_type": "text"
      },
      "source": [
        "Second, the data retrieval itself. It is similar to the tick data retrieval. The\n",
        "only difference is that a ***period value*** — i.e., the bar length — needs to be\n",
        "specified (e.g., ***m1 for one minute, H1 for one hour, or D1 for one day***)"
      ]
    },
    {
      "cell_type": "code",
      "metadata": {
        "id": "oWZ_nIG8KxwG",
        "colab_type": "code",
        "colab": {
          "base_uri": "https://localhost:8080/",
          "height": 278
        },
        "outputId": "5563885a-4cbe-4a83-b71e-f666e2a28b47"
      },
      "source": [
        "start = dt.datetime(2018, 5, 1)\n",
        "stop = dt.datetime(2018, 6, 30)\n",
        "period = 'H1'\n",
        "candles = cdr('EURUSD', start, stop, period)\n",
        "data = candles.get_data()\n",
        "data.info()"
      ],
      "execution_count": null,
      "outputs": [
        {
          "output_type": "stream",
          "text": [
            "<class 'pandas.core.frame.DataFrame'>\n",
            "DatetimeIndex: 1080 entries, 2018-04-29 21:00:00 to 2018-06-29 20:00:00\n",
            "Data columns (total 8 columns):\n",
            " #   Column    Non-Null Count  Dtype  \n",
            "---  ------    --------------  -----  \n",
            " 0   BidOpen   1080 non-null   float64\n",
            " 1   BidHigh   1080 non-null   float64\n",
            " 2   BidLow    1080 non-null   float64\n",
            " 3   BidClose  1080 non-null   float64\n",
            " 4   AskOpen   1080 non-null   float64\n",
            " 5   AskHigh   1080 non-null   float64\n",
            " 6   AskLow    1080 non-null   float64\n",
            " 7   AskClose  1080 non-null   float64\n",
            "dtypes: float64(8)\n",
            "memory usage: 75.9 KB\n"
          ],
          "name": "stdout"
        }
      ]
    },
    {
      "cell_type": "code",
      "metadata": {
        "id": "NKD78IJOLOla",
        "colab_type": "code",
        "colab": {
          "base_uri": "https://localhost:8080/",
          "height": 206
        },
        "outputId": "26680add-7da7-4b6c-e565-a44ec8dc5319"
      },
      "source": [
        "data[data.columns[:4]].tail()"
      ],
      "execution_count": null,
      "outputs": [
        {
          "output_type": "execute_result",
          "data": {
            "text/html": [
              "<div>\n",
              "<style scoped>\n",
              "    .dataframe tbody tr th:only-of-type {\n",
              "        vertical-align: middle;\n",
              "    }\n",
              "\n",
              "    .dataframe tbody tr th {\n",
              "        vertical-align: top;\n",
              "    }\n",
              "\n",
              "    .dataframe thead th {\n",
              "        text-align: right;\n",
              "    }\n",
              "</style>\n",
              "<table border=\"1\" class=\"dataframe\">\n",
              "  <thead>\n",
              "    <tr style=\"text-align: right;\">\n",
              "      <th></th>\n",
              "      <th>BidOpen</th>\n",
              "      <th>BidHigh</th>\n",
              "      <th>BidLow</th>\n",
              "      <th>BidClose</th>\n",
              "    </tr>\n",
              "  </thead>\n",
              "  <tbody>\n",
              "    <tr>\n",
              "      <th>2018-06-29 16:00:00</th>\n",
              "      <td>1.16768</td>\n",
              "      <td>1.16820</td>\n",
              "      <td>1.16731</td>\n",
              "      <td>1.16769</td>\n",
              "    </tr>\n",
              "    <tr>\n",
              "      <th>2018-06-29 17:00:00</th>\n",
              "      <td>1.16769</td>\n",
              "      <td>1.16826</td>\n",
              "      <td>1.16709</td>\n",
              "      <td>1.16781</td>\n",
              "    </tr>\n",
              "    <tr>\n",
              "      <th>2018-06-29 18:00:00</th>\n",
              "      <td>1.16781</td>\n",
              "      <td>1.16816</td>\n",
              "      <td>1.16668</td>\n",
              "      <td>1.16684</td>\n",
              "    </tr>\n",
              "    <tr>\n",
              "      <th>2018-06-29 19:00:00</th>\n",
              "      <td>1.16684</td>\n",
              "      <td>1.16792</td>\n",
              "      <td>1.16638</td>\n",
              "      <td>1.16774</td>\n",
              "    </tr>\n",
              "    <tr>\n",
              "      <th>2018-06-29 20:00:00</th>\n",
              "      <td>1.16774</td>\n",
              "      <td>1.16904</td>\n",
              "      <td>1.16758</td>\n",
              "      <td>1.16816</td>\n",
              "    </tr>\n",
              "  </tbody>\n",
              "</table>\n",
              "</div>"
            ],
            "text/plain": [
              "                     BidOpen  BidHigh   BidLow  BidClose\n",
              "2018-06-29 16:00:00  1.16768  1.16820  1.16731   1.16769\n",
              "2018-06-29 17:00:00  1.16769  1.16826  1.16709   1.16781\n",
              "2018-06-29 18:00:00  1.16781  1.16816  1.16668   1.16684\n",
              "2018-06-29 19:00:00  1.16684  1.16792  1.16638   1.16774\n",
              "2018-06-29 20:00:00  1.16774  1.16904  1.16758   1.16816"
            ]
          },
          "metadata": {
            "tags": []
          },
          "execution_count": 52
        }
      ]
    },
    {
      "cell_type": "code",
      "metadata": {
        "id": "gwVs_8ErLX-A",
        "colab_type": "code",
        "colab": {
          "base_uri": "https://localhost:8080/",
          "height": 206
        },
        "outputId": "bef9f57b-f0ed-4a45-ae97-038837a082ee"
      },
      "source": [
        "data[data.columns[4:]].tail()"
      ],
      "execution_count": null,
      "outputs": [
        {
          "output_type": "execute_result",
          "data": {
            "text/html": [
              "<div>\n",
              "<style scoped>\n",
              "    .dataframe tbody tr th:only-of-type {\n",
              "        vertical-align: middle;\n",
              "    }\n",
              "\n",
              "    .dataframe tbody tr th {\n",
              "        vertical-align: top;\n",
              "    }\n",
              "\n",
              "    .dataframe thead th {\n",
              "        text-align: right;\n",
              "    }\n",
              "</style>\n",
              "<table border=\"1\" class=\"dataframe\">\n",
              "  <thead>\n",
              "    <tr style=\"text-align: right;\">\n",
              "      <th></th>\n",
              "      <th>AskOpen</th>\n",
              "      <th>AskHigh</th>\n",
              "      <th>AskLow</th>\n",
              "      <th>AskClose</th>\n",
              "    </tr>\n",
              "  </thead>\n",
              "  <tbody>\n",
              "    <tr>\n",
              "      <th>2018-06-29 16:00:00</th>\n",
              "      <td>1.16769</td>\n",
              "      <td>1.16820</td>\n",
              "      <td>1.16732</td>\n",
              "      <td>1.16771</td>\n",
              "    </tr>\n",
              "    <tr>\n",
              "      <th>2018-06-29 17:00:00</th>\n",
              "      <td>1.16771</td>\n",
              "      <td>1.16827</td>\n",
              "      <td>1.16711</td>\n",
              "      <td>1.16782</td>\n",
              "    </tr>\n",
              "    <tr>\n",
              "      <th>2018-06-29 18:00:00</th>\n",
              "      <td>1.16782</td>\n",
              "      <td>1.16817</td>\n",
              "      <td>1.16669</td>\n",
              "      <td>1.16686</td>\n",
              "    </tr>\n",
              "    <tr>\n",
              "      <th>2018-06-29 19:00:00</th>\n",
              "      <td>1.16686</td>\n",
              "      <td>1.16794</td>\n",
              "      <td>1.16640</td>\n",
              "      <td>1.16775</td>\n",
              "    </tr>\n",
              "    <tr>\n",
              "      <th>2018-06-29 20:00:00</th>\n",
              "      <td>1.16775</td>\n",
              "      <td>1.16907</td>\n",
              "      <td>1.16760</td>\n",
              "      <td>1.16861</td>\n",
              "    </tr>\n",
              "  </tbody>\n",
              "</table>\n",
              "</div>"
            ],
            "text/plain": [
              "                     AskOpen  AskHigh   AskLow  AskClose\n",
              "2018-06-29 16:00:00  1.16769  1.16820  1.16732   1.16771\n",
              "2018-06-29 17:00:00  1.16771  1.16827  1.16711   1.16782\n",
              "2018-06-29 18:00:00  1.16782  1.16817  1.16669   1.16686\n",
              "2018-06-29 19:00:00  1.16686  1.16794  1.16640   1.16775\n",
              "2018-06-29 20:00:00  1.16775  1.16907  1.16760   1.16861"
            ]
          },
          "metadata": {
            "tags": []
          },
          "execution_count": 53
        }
      ]
    },
    {
      "cell_type": "markdown",
      "metadata": {
        "id": "GwGho-T1LuqP",
        "colab_type": "text"
      },
      "source": [
        "following code calculates mid close prices and\n",
        "two SMAs, and plots the results"
      ]
    },
    {
      "cell_type": "code",
      "metadata": {
        "id": "eX0qdXUhLhy4",
        "colab_type": "code",
        "colab": {
          "base_uri": "https://localhost:8080/",
          "height": 385
        },
        "outputId": "c78a4044-a85e-4954-cbaa-b56f7e25531b"
      },
      "source": [
        "data['MidClose'] = data[['BidClose', 'AskClose']].mean(axis = 1)\n",
        "data['SMA1'] = data['MidClose'].rolling(30).mean()\n",
        "data['SMA2'] = data['MidClose'].rolling(100).mean()\n",
        "data[['MidClose','SMA1', 'SMA2']].plot(figsize = (10, 6));"
      ],
      "execution_count": null,
      "outputs": [
        {
          "output_type": "execute_result",
          "data": {
            "text/plain": [
              "<matplotlib.axes._subplots.AxesSubplot at 0x7fa643dae780>"
            ]
          },
          "metadata": {
            "tags": []
          },
          "execution_count": 48
        },
        {
          "output_type": "display_data",
          "data": {
            "image/png": "[encoded data removed]",
            "text/plain": [
              "<Figure size 720x432 with 1 Axes>"
            ]
          },
          "metadata": {
            "tags": [],
            "needs_background": "light"
          }
        }
      ]
    },
    {
      "cell_type": "markdown",
      "metadata": {
        "id": "RFj7j1iAPIux",
        "colab_type": "text"
      },
      "source": [
        "***Working with the API -***\n",
        "\n",
        "While the previous sections demonstrate retrieving prepackaged historical\n",
        "tick data and candles data from FXCM servers, this section shows how to\n",
        "retrieve historical data via the API. For this, a connection object to the\n",
        "FXCM API is needed. Therefore, first the import of the fxcmpy package,\n",
        "the connection to the API (based on the unique API token), and a look at\n",
        "the available instruments:"
      ]
    },
    {
      "cell_type": "code",
      "metadata": {
        "id": "GwRUBXCmPY49",
        "colab_type": "code",
        "colab": {
          "base_uri": "https://localhost:8080/",
          "height": 54
        },
        "outputId": "47be5c77-4668-44a9-a92f-9d80801a0811"
      },
      "source": [
        "instruments = api.get_instruments()\n",
        "print (instruments)"
      ],
      "execution_count": null,
      "outputs": [
        {
          "output_type": "stream",
          "text": [
            "['EUR/USD', 'USD/JPY', 'GBP/USD', 'USD/CHF', 'EUR/CHF', 'AUD/USD', 'USD/CAD', 'NZD/USD', 'EUR/GBP', 'EUR/JPY', 'GBP/JPY', 'CHF/JPY', 'GBP/CHF', 'EUR/AUD', 'EUR/CAD', 'AUD/CAD', 'AUD/JPY', 'CAD/JPY', 'NZD/JPY', 'GBP/CAD', 'GBP/NZD', 'GBP/AUD', 'AUD/NZD', 'USD/SEK', 'EUR/SEK', 'EUR/NOK', 'USD/NOK', 'USD/MXN', 'AUD/CHF', 'EUR/NZD', 'USD/ZAR', 'USD/HKD', 'ZAR/JPY', 'USD/TRY', 'EUR/TRY', 'NZD/CHF', 'CAD/CHF', 'NZD/CAD', 'TRY/JPY', 'AUS200', 'ESP35', 'FRA40', 'GER30', 'HKG33', 'JPN225', 'NAS100', 'SPX500', 'UK100', 'US30', 'Copper', 'CHN50', 'EUSTX50', 'USDOLLAR', 'US2000', 'USOil', 'UKOil', 'SOYF', 'NGAS', 'USOilSpot', 'UKOilSpot', 'WHEATF', 'CORNF', 'Bund', 'XAU/USD', 'XAG/USD', 'EMBasket', 'JPYBasket', 'BTC/USD', 'BCH/USD', 'ETH/USD', 'LTC/USD', 'XRP/USD', 'CryptoMajor', 'EOS/USD', 'XLM/USD', 'ESPORTS', 'BIOTECH', 'CANNABIS', 'FAANG', 'CHN.TECH', 'CHN.ECOMM', 'USEquities']\n"
          ],
          "name": "stdout"
        }
      ]
    },
    {
      "cell_type": "markdown",
      "metadata": {
        "id": "WxFF6heFTert",
        "colab_type": "text"
      },
      "source": [
        "When using the ***get_candles()*** method, the parameter\n",
        "period can be one of ***m1 , m5 , m15 , m30 , H1 , H2 , H3 , H4 , H6 , H8 , D1 , W1 , or M1*** ."
      ]
    },
    {
      "cell_type": "code",
      "metadata": {
        "id": "chUpNrBuPpOh",
        "colab_type": "code",
        "colab": {
          "base_uri": "https://localhost:8080/",
          "height": 394
        },
        "outputId": "7debdd28-ea79-4425-f32d-9006f70f28d7"
      },
      "source": [
        "#Retrieves the 10 most recent end-of-day prices.\n",
        "candles = api.get_candles('USD/JPY', period = 'D1', number = 10)\n",
        "candles"
      ],
      "execution_count": null,
      "outputs": [
        {
          "output_type": "execute_result",
          "data": {
            "text/html": [
              "<div>\n",
              "<style scoped>\n",
              "    .dataframe tbody tr th:only-of-type {\n",
              "        vertical-align: middle;\n",
              "    }\n",
              "\n",
              "    .dataframe tbody tr th {\n",
              "        vertical-align: top;\n",
              "    }\n",
              "\n",
              "    .dataframe thead th {\n",
              "        text-align: right;\n",
              "    }\n",
              "</style>\n",
              "<table border=\"1\" class=\"dataframe\">\n",
              "  <thead>\n",
              "    <tr style=\"text-align: right;\">\n",
              "      <th></th>\n",
              "      <th>bidopen</th>\n",
              "      <th>bidclose</th>\n",
              "      <th>bidhigh</th>\n",
              "      <th>bidlow</th>\n",
              "      <th>askopen</th>\n",
              "      <th>askclose</th>\n",
              "      <th>askhigh</th>\n",
              "      <th>asklow</th>\n",
              "      <th>tickqty</th>\n",
              "    </tr>\n",
              "    <tr>\n",
              "      <th>date</th>\n",
              "      <th></th>\n",
              "      <th></th>\n",
              "      <th></th>\n",
              "      <th></th>\n",
              "      <th></th>\n",
              "      <th></th>\n",
              "      <th></th>\n",
              "      <th></th>\n",
              "      <th></th>\n",
              "    </tr>\n",
              "  </thead>\n",
              "  <tbody>\n",
              "    <tr>\n",
              "      <th>2020-08-12 21:00:00</th>\n",
              "      <td>106.481</td>\n",
              "      <td>106.900</td>\n",
              "      <td>107.009</td>\n",
              "      <td>106.434</td>\n",
              "      <td>106.499</td>\n",
              "      <td>106.932</td>\n",
              "      <td>107.022</td>\n",
              "      <td>106.447</td>\n",
              "      <td>248987</td>\n",
              "    </tr>\n",
              "    <tr>\n",
              "      <th>2020-08-13 21:00:00</th>\n",
              "      <td>106.900</td>\n",
              "      <td>106.916</td>\n",
              "      <td>107.044</td>\n",
              "      <td>106.560</td>\n",
              "      <td>106.932</td>\n",
              "      <td>106.941</td>\n",
              "      <td>107.056</td>\n",
              "      <td>106.572</td>\n",
              "      <td>214737</td>\n",
              "    </tr>\n",
              "    <tr>\n",
              "      <th>2020-08-14 21:00:00</th>\n",
              "      <td>106.916</td>\n",
              "      <td>106.535</td>\n",
              "      <td>107.033</td>\n",
              "      <td>106.429</td>\n",
              "      <td>106.941</td>\n",
              "      <td>106.646</td>\n",
              "      <td>107.044</td>\n",
              "      <td>106.442</td>\n",
              "      <td>164248</td>\n",
              "    </tr>\n",
              "    <tr>\n",
              "      <th>2020-08-17 21:00:00</th>\n",
              "      <td>106.535</td>\n",
              "      <td>105.996</td>\n",
              "      <td>106.648</td>\n",
              "      <td>105.937</td>\n",
              "      <td>106.646</td>\n",
              "      <td>106.016</td>\n",
              "      <td>106.711</td>\n",
              "      <td>105.948</td>\n",
              "      <td>165506</td>\n",
              "    </tr>\n",
              "    <tr>\n",
              "      <th>2020-08-18 21:00:00</th>\n",
              "      <td>105.996</td>\n",
              "      <td>105.395</td>\n",
              "      <td>106.046</td>\n",
              "      <td>105.277</td>\n",
              "      <td>106.016</td>\n",
              "      <td>105.415</td>\n",
              "      <td>106.101</td>\n",
              "      <td>105.290</td>\n",
              "      <td>215578</td>\n",
              "    </tr>\n",
              "    <tr>\n",
              "      <th>2020-08-19 21:00:00</th>\n",
              "      <td>105.395</td>\n",
              "      <td>106.097</td>\n",
              "      <td>106.146</td>\n",
              "      <td>105.097</td>\n",
              "      <td>105.415</td>\n",
              "      <td>106.136</td>\n",
              "      <td>106.160</td>\n",
              "      <td>105.109</td>\n",
              "      <td>247787</td>\n",
              "    </tr>\n",
              "    <tr>\n",
              "      <th>2020-08-20 21:00:00</th>\n",
              "      <td>106.097</td>\n",
              "      <td>105.785</td>\n",
              "      <td>106.213</td>\n",
              "      <td>105.739</td>\n",
              "      <td>106.136</td>\n",
              "      <td>105.811</td>\n",
              "      <td>106.222</td>\n",
              "      <td>105.751</td>\n",
              "      <td>251127</td>\n",
              "    </tr>\n",
              "    <tr>\n",
              "      <th>2020-08-21 21:00:00</th>\n",
              "      <td>105.785</td>\n",
              "      <td>105.752</td>\n",
              "      <td>106.066</td>\n",
              "      <td>105.436</td>\n",
              "      <td>105.811</td>\n",
              "      <td>105.870</td>\n",
              "      <td>106.077</td>\n",
              "      <td>105.447</td>\n",
              "      <td>212780</td>\n",
              "    </tr>\n",
              "    <tr>\n",
              "      <th>2020-08-23 21:00:00</th>\n",
              "      <td>105.720</td>\n",
              "      <td>105.759</td>\n",
              "      <td>105.761</td>\n",
              "      <td>105.697</td>\n",
              "      <td>105.830</td>\n",
              "      <td>105.805</td>\n",
              "      <td>105.833</td>\n",
              "      <td>105.794</td>\n",
              "      <td>38</td>\n",
              "    </tr>\n",
              "    <tr>\n",
              "      <th>2020-08-24 21:00:00</th>\n",
              "      <td>105.759</td>\n",
              "      <td>105.745</td>\n",
              "      <td>105.936</td>\n",
              "      <td>105.686</td>\n",
              "      <td>105.805</td>\n",
              "      <td>105.758</td>\n",
              "      <td>105.949</td>\n",
              "      <td>105.699</td>\n",
              "      <td>31289</td>\n",
              "    </tr>\n",
              "  </tbody>\n",
              "</table>\n",
              "</div>"
            ],
            "text/plain": [
              "                     bidopen  bidclose  bidhigh  ...  askhigh   asklow  tickqty\n",
              "date                                             ...                           \n",
              "2020-08-12 21:00:00  106.481   106.900  107.009  ...  107.022  106.447   248987\n",
              "2020-08-13 21:00:00  106.900   106.916  107.044  ...  107.056  106.572   214737\n",
              "2020-08-14 21:00:00  106.916   106.535  107.033  ...  107.044  106.442   164248\n",
              "2020-08-17 21:00:00  106.535   105.996  106.648  ...  106.711  105.948   165506\n",
              "2020-08-18 21:00:00  105.996   105.395  106.046  ...  106.101  105.290   215578\n",
              "2020-08-19 21:00:00  105.395   106.097  106.146  ...  106.160  105.109   247787\n",
              "2020-08-20 21:00:00  106.097   105.785  106.213  ...  106.222  105.751   251127\n",
              "2020-08-21 21:00:00  105.785   105.752  106.066  ...  106.077  105.447   212780\n",
              "2020-08-23 21:00:00  105.720   105.759  105.761  ...  105.833  105.794       38\n",
              "2020-08-24 21:00:00  105.759   105.745  105.936  ...  105.949  105.699    31289\n",
              "\n",
              "[10 rows x 9 columns]"
            ]
          },
          "metadata": {
            "tags": []
          },
          "execution_count": 61
        }
      ]
    },
    {
      "cell_type": "code",
      "metadata": {
        "id": "yOIq0Q1CT0B3",
        "colab_type": "code",
        "colab": {
          "base_uri": "https://localhost:8080/",
          "height": 295
        },
        "outputId": "7434ba71-b020-424a-a616-b22390a1e9a6"
      },
      "source": [
        "#Retrieves end-of-day prices for a whole year.\n",
        "start = '2017, 1, 1'\n",
        "end = '2018, 1, 1'\n",
        "candles = api.get_candles('EUR/GBP', period = 'D1', start = start, end = end)\n",
        "candles.info()"
      ],
      "execution_count": null,
      "outputs": [
        {
          "output_type": "stream",
          "text": [
            "<class 'pandas.core.frame.DataFrame'>\n",
            "DatetimeIndex: 309 entries, 2017-01-03 22:00:00 to 2018-01-01 22:00:00\n",
            "Data columns (total 9 columns):\n",
            " #   Column    Non-Null Count  Dtype  \n",
            "---  ------    --------------  -----  \n",
            " 0   bidopen   309 non-null    float64\n",
            " 1   bidclose  309 non-null    float64\n",
            " 2   bidhigh   309 non-null    float64\n",
            " 3   bidlow    309 non-null    float64\n",
            " 4   askopen   309 non-null    float64\n",
            " 5   askclose  309 non-null    float64\n",
            " 6   askhigh   309 non-null    float64\n",
            " 7   asklow    309 non-null    float64\n",
            " 8   tickqty   309 non-null    int64  \n",
            "dtypes: float64(8), int64(1)\n",
            "memory usage: 24.1 KB\n"
          ],
          "name": "stdout"
        }
      ]
    },
    {
      "cell_type": "code",
      "metadata": {
        "id": "WuXOUOxwUW59",
        "colab_type": "code",
        "colab": {
          "base_uri": "https://localhost:8080/",
          "height": 376
        },
        "outputId": "9f508fd6-eb3c-4da9-ce26-afed955362f8"
      },
      "source": [
        "#Retrieves the most recent one-minute bar prices available.\n",
        "candles = api.get_candles('EUR/USD', period = 'm1', number = 250)\n",
        "candles['askclose'].plot(figsize = (10, 6));"
      ],
      "execution_count": null,
      "outputs": [
        {
          "output_type": "display_data",
          "data": {
            "image/png": "[encoded data removed]",
            "text/plain": [
              "<Figure size 720x432 with 1 Axes>"
            ]
          },
          "metadata": {
            "tags": [],
            "needs_background": "light"
          }
        }
      ]
    },
    {
      "cell_type": "markdown",
      "metadata": {
        "id": "9kXJG_VoVMZi",
        "colab_type": "text"
      },
      "source": [
        "***Retrieving Streaming Data -***\n",
        "***While historical data is important to, for example, backtest algorithmic\n",
        "trading strategies, continuous access to real-time or streaming data (during\n",
        "trading hours) is required to deploy and automate algorithmic trading\n",
        "strategies.*** The FXCM API allows for the subscription to real-time data\n",
        "streams for all instruments. ***The fxcmpy wrapper package supports this\n",
        "functionality, among others, in that it allows users to provide user-defined\n",
        "functions (so-called callback functions) to process the real-time data stream. Callback functions are a flexible means to process real-time streaming data based on a\n",
        "Python function or even multiple such functions. They can be used for simple tasks,\n",
        "such as the printing of incoming data, or complex tasks, such as generating trading\n",
        "signals based on online trading algorithms***\n",
        "The following code presents a simple callback function — it only prints out\n",
        "selected elements of the data set retrieved — and uses it to process data\n",
        "retrieved in real time after subscribing to the desired instrument (here,\n",
        "EUR/USD ):"
      ]
    },
    {
      "cell_type": "code",
      "metadata": {
        "id": "IdCE0vv1Urd-",
        "colab_type": "code",
        "colab": {}
      },
      "source": [
        "#The callback function that prints out certain elements of the retrieved data set.\n",
        "def output(data, dataframe):\n",
        "    print ('%3d | %s | %s | %6.5f, %6.5f') %(len(dataframe), data['Symbol'], pd.to_datatime(int(data['Updated']), unit = 'ms'), \n",
        "          data['Rates'][0], data['Rates'][1])"
      ],
      "execution_count": null,
      "outputs": []
    },
    {
      "cell_type": "code",
      "metadata": {
        "id": "U8YlCXlcYK64",
        "colab_type": "code",
        "colab": {}
      },
      "source": [
        "#The subscription to a specific real-time data stream; data is processed asynchronously as long as there is no “unsubscribe” event.\n",
        "api.subscribe_market_data('EUR/USD', (output, ))"
      ],
      "execution_count": null,
      "outputs": []
    },
    {
      "cell_type": "code",
      "metadata": {
        "id": "lh6BtlFZYl6h",
        "colab_type": "code",
        "colab": {
          "base_uri": "https://localhost:8080/",
          "height": 104
        },
        "outputId": "9e9c2afd-d73a-4e30-c19c-722e022e4b25"
      },
      "source": [
        "api.get_last_price('EUR/USD')"
      ],
      "execution_count": null,
      "outputs": [
        {
          "output_type": "execute_result",
          "data": {
            "text/plain": [
              "Bid     1.17933\n",
              "Ask     1.17947\n",
              "High    1.18074\n",
              "Low     1.17870\n",
              "Name: 2020-08-24 02:53:29.167000, dtype: float64"
            ]
          },
          "metadata": {
            "tags": []
          },
          "execution_count": 70
        }
      ]
    },
    {
      "cell_type": "code",
      "metadata": {
        "id": "cyqdOJwYYpMj",
        "colab_type": "code",
        "colab": {
          "base_uri": "https://localhost:8080/",
          "height": 347
        },
        "outputId": "15d3c93c-27ac-4d9b-a156-23c39211b06a"
      },
      "source": [
        "#This unsubscribes from the real-time data stream.\n",
        "api.unsubscribe_market_data('EUR/USD')"
      ],
      "execution_count": null,
      "outputs": [
        {
          "output_type": "stream",
          "text": [
            "%3d | %s | %s | %6.5f, %6.5f\n"
          ],
          "name": "stdout"
        },
        {
          "output_type": "stream",
          "text": [
            "Exception in thread Thread-20166:\n",
            "Traceback (most recent call last):\n",
            "  File \"/usr/lib/python3.6/threading.py\", line 916, in _bootstrap_inner\n",
            "    self.run()\n",
            "  File \"/usr/lib/python3.6/threading.py\", line 864, in run\n",
            "    self._target(*self._args, **self._kwargs)\n",
            "  File \"/usr/local/lib/python3.6/dist-packages/socketio/client.py\", line 616, in _handle_eio_message\n",
            "    self._handle_event(pkt.namespace, pkt.id, pkt.data)\n",
            "  File \"/usr/local/lib/python3.6/dist-packages/socketio/client.py\", line 500, in _handle_event\n",
            "    r = self._trigger_event(data[0], namespace, *data[1:])\n",
            "  File \"/usr/local/lib/python3.6/dist-packages/socketio/client.py\", line 550, in _trigger_event\n",
            "    return self.handlers[namespace][event](*args)\n",
            "  File \"/usr/local/lib/python3.6/dist-packages/fxcmpy/fxcmpy.py\", line 2555, in __on_price_update__\n",
            "    callbacks[func](data, self.prices[symbol])\n",
            "  File \"<ipython-input-68-9e63d975e3b0>\", line 3, in output\n",
            "    print ('%3d | %s | %s | %6.5f, %6.5f') %(len(dataframe), data['Symbol'], pd.to_datatime(int(data['Updated']), unit = 'ms'),\n",
            "AttributeError: module 'pandas' has no attribute 'to_datatime'\n",
            "\n"
          ],
          "name": "stderr"
        }
      ]
    },
    {
      "cell_type": "markdown",
      "metadata": {
        "id": "lVeV1zgxqoso",
        "colab_type": "text"
      },
      "source": [
        "***Placing Orders -***\n",
        "The FXCM API allows the placement and management of all types of\n",
        "orders that are also available via the trading application of FXCM (such as\n",
        "entry orders or trailing stop loss orders). 2 However, the following code\n",
        "illustrates basic market buy and sell orders only since they are in general\n",
        "sufficient to at least get started with algorithmic trading. It first verifies that\n",
        "there are no open positions, then opens different positions (via the\n",
        "create_market_buy_order() method):"
      ]
    },
    {
      "cell_type": "code",
      "metadata": {
        "id": "jcITWvSYYry9",
        "colab_type": "code",
        "colab": {
          "base_uri": "https://localhost:8080/",
          "height": 100
        },
        "outputId": "4f3bac90-1010-4d61-83c7-e16ee964f9ac"
      },
      "source": [
        "api.get_open_positions()"
      ],
      "execution_count": null,
      "outputs": [
        {
          "output_type": "execute_result",
          "data": {
            "text/html": [
              "<div>\n",
              "<style scoped>\n",
              "    .dataframe tbody tr th:only-of-type {\n",
              "        vertical-align: middle;\n",
              "    }\n",
              "\n",
              "    .dataframe tbody tr th {\n",
              "        vertical-align: top;\n",
              "    }\n",
              "\n",
              "    .dataframe thead th {\n",
              "        text-align: right;\n",
              "    }\n",
              "</style>\n",
              "<table border=\"1\" class=\"dataframe\">\n",
              "  <thead>\n",
              "    <tr style=\"text-align: right;\">\n",
              "      <th></th>\n",
              "      <th>t</th>\n",
              "      <th>ratePrecision</th>\n",
              "      <th>tradeId</th>\n",
              "      <th>accountName</th>\n",
              "      <th>accountId</th>\n",
              "      <th>roll</th>\n",
              "      <th>com</th>\n",
              "      <th>open</th>\n",
              "      <th>valueDate</th>\n",
              "      <th>grossPL</th>\n",
              "      <th>close</th>\n",
              "      <th>visiblePL</th>\n",
              "      <th>isDisabled</th>\n",
              "      <th>currency</th>\n",
              "      <th>isBuy</th>\n",
              "      <th>amountK</th>\n",
              "      <th>currencyPoint</th>\n",
              "      <th>time</th>\n",
              "      <th>usedMargin</th>\n",
              "      <th>OpenOrderRequestTXT</th>\n",
              "      <th>stop</th>\n",
              "      <th>stopMove</th>\n",
              "      <th>limit</th>\n",
              "    </tr>\n",
              "  </thead>\n",
              "  <tbody>\n",
              "    <tr>\n",
              "      <th>0</th>\n",
              "      <td>1</td>\n",
              "      <td>2</td>\n",
              "      <td>75882294</td>\n",
              "      <td>01121674</td>\n",
              "      <td>1121674</td>\n",
              "      <td>0</td>\n",
              "      <td>0</td>\n",
              "      <td>11650.6</td>\n",
              "      <td></td>\n",
              "      <td>0.154</td>\n",
              "      <td>11666</td>\n",
              "      <td>15.4</td>\n",
              "      <td>False</td>\n",
              "      <td>BTC/USD</td>\n",
              "      <td>True</td>\n",
              "      <td>0.001</td>\n",
              "      <td>0.00001</td>\n",
              "      <td>08232020080840</td>\n",
              "      <td>30.82294</td>\n",
              "      <td>FXTC</td>\n",
              "      <td>0</td>\n",
              "      <td>0</td>\n",
              "      <td>0</td>\n",
              "    </tr>\n",
              "  </tbody>\n",
              "</table>\n",
              "</div>"
            ],
            "text/plain": [
              "   t  ratePrecision   tradeId  ... stop stopMove  limit\n",
              "0  1              2  75882294  ...    0        0      0\n",
              "\n",
              "[1 rows x 23 columns]"
            ]
          },
          "metadata": {
            "tags": []
          },
          "execution_count": 73
        }
      ]
    },
    {
      "cell_type": "code",
      "metadata": {
        "id": "VZXgHmctqzwf",
        "colab_type": "code",
        "colab": {}
      },
      "source": [
        "#Opens a position of 100,000 in the EUR/USD currency pair.\n",
        "order = api.create_market_buy_order('EUR/USD', 10)"
      ],
      "execution_count": null,
      "outputs": []
    },
    {
      "cell_type": "code",
      "metadata": {
        "id": "W9UxpwZSrJHr",
        "colab_type": "code",
        "colab": {
          "base_uri": "https://localhost:8080/",
          "height": 112
        },
        "outputId": "1ad2fa81-e43b-43eb-904e-4d6faf5f286e"
      },
      "source": [
        "#Shows the open positions for selected elements only.\n",
        "sel = ['tradeId', 'amountK', 'currency', 'grossPL', 'isBuy']\n",
        "api.get_open_positions()[sel]"
      ],
      "execution_count": null,
      "outputs": [
        {
          "output_type": "execute_result",
          "data": {
            "text/html": [
              "<div>\n",
              "<style scoped>\n",
              "    .dataframe tbody tr th:only-of-type {\n",
              "        vertical-align: middle;\n",
              "    }\n",
              "\n",
              "    .dataframe tbody tr th {\n",
              "        vertical-align: top;\n",
              "    }\n",
              "\n",
              "    .dataframe thead th {\n",
              "        text-align: right;\n",
              "    }\n",
              "</style>\n",
              "<table border=\"1\" class=\"dataframe\">\n",
              "  <thead>\n",
              "    <tr style=\"text-align: right;\">\n",
              "      <th></th>\n",
              "      <th>tradeId</th>\n",
              "      <th>amountK</th>\n",
              "      <th>currency</th>\n",
              "      <th>grossPL</th>\n",
              "      <th>isBuy</th>\n",
              "    </tr>\n",
              "  </thead>\n",
              "  <tbody>\n",
              "    <tr>\n",
              "      <th>0</th>\n",
              "      <td>75882294</td>\n",
              "      <td>0.001</td>\n",
              "      <td>BTC/USD</td>\n",
              "      <td>0.114</td>\n",
              "      <td>True</td>\n",
              "    </tr>\n",
              "    <tr>\n",
              "      <th>1</th>\n",
              "      <td>75883754</td>\n",
              "      <td>10.000</td>\n",
              "      <td>EUR/USD</td>\n",
              "      <td>-1.500</td>\n",
              "      <td>True</td>\n",
              "    </tr>\n",
              "  </tbody>\n",
              "</table>\n",
              "</div>"
            ],
            "text/plain": [
              "    tradeId  amountK currency  grossPL  isBuy\n",
              "0  75882294    0.001  BTC/USD    0.114   True\n",
              "1  75883754   10.000  EUR/USD   -1.500   True"
            ]
          },
          "metadata": {
            "tags": []
          },
          "execution_count": 75
        }
      ]
    },
    {
      "cell_type": "code",
      "metadata": {
        "id": "23YqTf-DrZGa",
        "colab_type": "code",
        "colab": {
          "base_uri": "https://localhost:8080/",
          "height": 143
        },
        "outputId": "23fc393f-618a-44c5-878f-4edc0fd85a53"
      },
      "source": [
        "#Opens another position of 50,000 in the EUR/GBP currency pair.\n",
        "order = api.create_market_buy_order('EUR/GBP', 5)\n",
        "api.get_open_positions()[sel]"
      ],
      "execution_count": null,
      "outputs": [
        {
          "output_type": "execute_result",
          "data": {
            "text/html": [
              "<div>\n",
              "<style scoped>\n",
              "    .dataframe tbody tr th:only-of-type {\n",
              "        vertical-align: middle;\n",
              "    }\n",
              "\n",
              "    .dataframe tbody tr th {\n",
              "        vertical-align: top;\n",
              "    }\n",
              "\n",
              "    .dataframe thead th {\n",
              "        text-align: right;\n",
              "    }\n",
              "</style>\n",
              "<table border=\"1\" class=\"dataframe\">\n",
              "  <thead>\n",
              "    <tr style=\"text-align: right;\">\n",
              "      <th></th>\n",
              "      <th>tradeId</th>\n",
              "      <th>amountK</th>\n",
              "      <th>currency</th>\n",
              "      <th>grossPL</th>\n",
              "      <th>isBuy</th>\n",
              "    </tr>\n",
              "  </thead>\n",
              "  <tbody>\n",
              "    <tr>\n",
              "      <th>0</th>\n",
              "      <td>75882294</td>\n",
              "      <td>0.001</td>\n",
              "      <td>BTC/USD</td>\n",
              "      <td>0.08400</td>\n",
              "      <td>True</td>\n",
              "    </tr>\n",
              "    <tr>\n",
              "      <th>1</th>\n",
              "      <td>75883754</td>\n",
              "      <td>10.000</td>\n",
              "      <td>EUR/USD</td>\n",
              "      <td>-1.70000</td>\n",
              "      <td>True</td>\n",
              "    </tr>\n",
              "    <tr>\n",
              "      <th>2</th>\n",
              "      <td>75883765</td>\n",
              "      <td>5.000</td>\n",
              "      <td>EUR/GBP</td>\n",
              "      <td>-1.24336</td>\n",
              "      <td>True</td>\n",
              "    </tr>\n",
              "  </tbody>\n",
              "</table>\n",
              "</div>"
            ],
            "text/plain": [
              "    tradeId  amountK currency  grossPL  isBuy\n",
              "0  75882294    0.001  BTC/USD  0.08400   True\n",
              "1  75883754   10.000  EUR/USD -1.70000   True\n",
              "2  75883765    5.000  EUR/GBP -1.24336   True"
            ]
          },
          "metadata": {
            "tags": []
          },
          "execution_count": 76
        }
      ]
    },
    {
      "cell_type": "markdown",
      "metadata": {
        "id": "k3AAYs5SsL7l",
        "colab_type": "text"
      },
      "source": [
        "While the create_market_buy_order() function opens or increases\n",
        "positions, the create_market_sell_order() function allows one to close\n",
        "or decrease positions. There are also more general methods that allow the\n",
        "closing out of positions, as the following code illustrates:"
      ]
    },
    {
      "cell_type": "code",
      "metadata": {
        "id": "Iz-9zuyxsFjM",
        "colab_type": "code",
        "colab": {
          "base_uri": "https://localhost:8080/",
          "height": 206
        },
        "outputId": "76941a91-4a60-4374-a94f-ee1a157bc540"
      },
      "source": [
        "#This reduces the position in the EUR/USD currency pair.\n",
        "order = api.create_market_sell_order('EUR/USD', 3)\n",
        "#This increases the position in the EUR/GBP currency pair.\n",
        "order = api.create_market_buy_order('EUR/GBP', 5)\n",
        "api.get_open_positions()[sel]"
      ],
      "execution_count": null,
      "outputs": [
        {
          "output_type": "execute_result",
          "data": {
            "text/html": [
              "<div>\n",
              "<style scoped>\n",
              "    .dataframe tbody tr th:only-of-type {\n",
              "        vertical-align: middle;\n",
              "    }\n",
              "\n",
              "    .dataframe tbody tr th {\n",
              "        vertical-align: top;\n",
              "    }\n",
              "\n",
              "    .dataframe thead th {\n",
              "        text-align: right;\n",
              "    }\n",
              "</style>\n",
              "<table border=\"1\" class=\"dataframe\">\n",
              "  <thead>\n",
              "    <tr style=\"text-align: right;\">\n",
              "      <th></th>\n",
              "      <th>tradeId</th>\n",
              "      <th>amountK</th>\n",
              "      <th>currency</th>\n",
              "      <th>grossPL</th>\n",
              "      <th>isBuy</th>\n",
              "    </tr>\n",
              "  </thead>\n",
              "  <tbody>\n",
              "    <tr>\n",
              "      <th>0</th>\n",
              "      <td>75882294</td>\n",
              "      <td>0.001</td>\n",
              "      <td>BTC/USD</td>\n",
              "      <td>0.07400</td>\n",
              "      <td>True</td>\n",
              "    </tr>\n",
              "    <tr>\n",
              "      <th>1</th>\n",
              "      <td>75883754</td>\n",
              "      <td>10.000</td>\n",
              "      <td>EUR/USD</td>\n",
              "      <td>-2.00000</td>\n",
              "      <td>True</td>\n",
              "    </tr>\n",
              "    <tr>\n",
              "      <th>2</th>\n",
              "      <td>75883765</td>\n",
              "      <td>5.000</td>\n",
              "      <td>EUR/GBP</td>\n",
              "      <td>-1.50512</td>\n",
              "      <td>True</td>\n",
              "    </tr>\n",
              "    <tr>\n",
              "      <th>3</th>\n",
              "      <td>75883800</td>\n",
              "      <td>3.000</td>\n",
              "      <td>EUR/USD</td>\n",
              "      <td>-0.33000</td>\n",
              "      <td>False</td>\n",
              "    </tr>\n",
              "    <tr>\n",
              "      <th>4</th>\n",
              "      <td>75883801</td>\n",
              "      <td>5.000</td>\n",
              "      <td>EUR/GBP</td>\n",
              "      <td>-1.37424</td>\n",
              "      <td>True</td>\n",
              "    </tr>\n",
              "  </tbody>\n",
              "</table>\n",
              "</div>"
            ],
            "text/plain": [
              "    tradeId  amountK currency  grossPL  isBuy\n",
              "0  75882294    0.001  BTC/USD  0.07400   True\n",
              "1  75883754   10.000  EUR/USD -2.00000   True\n",
              "2  75883765    5.000  EUR/GBP -1.50512   True\n",
              "3  75883800    3.000  EUR/USD -0.33000  False\n",
              "4  75883801    5.000  EUR/GBP -1.37424   True"
            ]
          },
          "metadata": {
            "tags": []
          },
          "execution_count": 77
        }
      ]
    },
    {
      "cell_type": "code",
      "metadata": {
        "id": "_SjxW5omtZsG",
        "colab_type": "code",
        "colab": {}
      },
      "source": [
        "#The close_all_for_symbol() method closes all positions for the specified symbol.\n",
        "api.close_all_for_symbol('EUR/GBP')"
      ],
      "execution_count": null,
      "outputs": []
    },
    {
      "cell_type": "code",
      "metadata": {
        "id": "KXL0lu4Htsql",
        "colab_type": "code",
        "colab": {
          "base_uri": "https://localhost:8080/",
          "height": 143
        },
        "outputId": "2325e711-d9cd-4ea2-b442-878f795721b3"
      },
      "source": [
        "api.get_open_positions()[sel]"
      ],
      "execution_count": null,
      "outputs": [
        {
          "output_type": "execute_result",
          "data": {
            "text/html": [
              "<div>\n",
              "<style scoped>\n",
              "    .dataframe tbody tr th:only-of-type {\n",
              "        vertical-align: middle;\n",
              "    }\n",
              "\n",
              "    .dataframe tbody tr th {\n",
              "        vertical-align: top;\n",
              "    }\n",
              "\n",
              "    .dataframe thead th {\n",
              "        text-align: right;\n",
              "    }\n",
              "</style>\n",
              "<table border=\"1\" class=\"dataframe\">\n",
              "  <thead>\n",
              "    <tr style=\"text-align: right;\">\n",
              "      <th></th>\n",
              "      <th>tradeId</th>\n",
              "      <th>amountK</th>\n",
              "      <th>currency</th>\n",
              "      <th>grossPL</th>\n",
              "      <th>isBuy</th>\n",
              "    </tr>\n",
              "  </thead>\n",
              "  <tbody>\n",
              "    <tr>\n",
              "      <th>0</th>\n",
              "      <td>75882294</td>\n",
              "      <td>0.001</td>\n",
              "      <td>BTC/USD</td>\n",
              "      <td>0.064</td>\n",
              "      <td>True</td>\n",
              "    </tr>\n",
              "    <tr>\n",
              "      <th>1</th>\n",
              "      <td>75883754</td>\n",
              "      <td>10.000</td>\n",
              "      <td>EUR/USD</td>\n",
              "      <td>-1.700</td>\n",
              "      <td>True</td>\n",
              "    </tr>\n",
              "    <tr>\n",
              "      <th>2</th>\n",
              "      <td>75883800</td>\n",
              "      <td>3.000</td>\n",
              "      <td>EUR/USD</td>\n",
              "      <td>-0.420</td>\n",
              "      <td>False</td>\n",
              "    </tr>\n",
              "  </tbody>\n",
              "</table>\n",
              "</div>"
            ],
            "text/plain": [
              "    tradeId  amountK currency  grossPL  isBuy\n",
              "0  75882294    0.001  BTC/USD    0.064   True\n",
              "1  75883754   10.000  EUR/USD   -1.700   True\n",
              "2  75883800    3.000  EUR/USD   -0.420  False"
            ]
          },
          "metadata": {
            "tags": []
          },
          "execution_count": 79
        }
      ]
    },
    {
      "cell_type": "code",
      "metadata": {
        "id": "SY6KZehRtw6o",
        "colab_type": "code",
        "colab": {}
      },
      "source": [
        "#The close_all() method closes all open positions.\n",
        "api.close_all()\n",
        "api.get_open_positions()"
      ],
      "execution_count": null,
      "outputs": []
    },
    {
      "cell_type": "markdown",
      "metadata": {
        "id": "yrUiVXpvvKbi",
        "colab_type": "text"
      },
      "source": [
        "***Account Information -***\n",
        "Beyond, for example, open positions, the FXCM API allows retrieval of\n",
        "more general account information as well. For example, one can look up the\n",
        "default account (if there are multiple accounts) or get an overview of the\n",
        "equity and margin situation:"
      ]
    },
    {
      "cell_type": "code",
      "metadata": {
        "id": "8H49xFKqt2NI",
        "colab_type": "code",
        "colab": {
          "base_uri": "https://localhost:8080/",
          "height": 34
        },
        "outputId": "1ea6ddb3-97a3-4ffd-e2f6-e4243eb877a1"
      },
      "source": [
        "#Shows the default accountId value.\n",
        "api.get_default_account()"
      ],
      "execution_count": null,
      "outputs": [
        {
          "output_type": "execute_result",
          "data": {
            "text/plain": [
              "1121674"
            ]
          },
          "metadata": {
            "tags": []
          },
          "execution_count": 83
        }
      ]
    },
    {
      "cell_type": "code",
      "metadata": {
        "id": "iYhZuQVot4wM",
        "colab_type": "code",
        "colab": {
          "base_uri": "https://localhost:8080/",
          "height": 614
        },
        "outputId": "d21fb4e1-051f-42c9-97c8-4112d0ca8930"
      },
      "source": [
        "#Shows for all accounts the financial situation and some parameters.\n",
        "api.get_accounts().T"
      ],
      "execution_count": null,
      "outputs": [
        {
          "output_type": "execute_result",
          "data": {
            "text/html": [
              "<div>\n",
              "<style scoped>\n",
              "    .dataframe tbody tr th:only-of-type {\n",
              "        vertical-align: middle;\n",
              "    }\n",
              "\n",
              "    .dataframe tbody tr th {\n",
              "        vertical-align: top;\n",
              "    }\n",
              "\n",
              "    .dataframe thead th {\n",
              "        text-align: right;\n",
              "    }\n",
              "</style>\n",
              "<table border=\"1\" class=\"dataframe\">\n",
              "  <thead>\n",
              "    <tr style=\"text-align: right;\">\n",
              "      <th></th>\n",
              "      <th>0</th>\n",
              "    </tr>\n",
              "  </thead>\n",
              "  <tbody>\n",
              "    <tr>\n",
              "      <th>t</th>\n",
              "      <td>6</td>\n",
              "    </tr>\n",
              "    <tr>\n",
              "      <th>ratePrecision</th>\n",
              "      <td>0</td>\n",
              "    </tr>\n",
              "    <tr>\n",
              "      <th>accountId</th>\n",
              "      <td>1121674</td>\n",
              "    </tr>\n",
              "    <tr>\n",
              "      <th>balance</th>\n",
              "      <td>49995.9</td>\n",
              "    </tr>\n",
              "    <tr>\n",
              "      <th>usdMr</th>\n",
              "      <td>0</td>\n",
              "    </tr>\n",
              "    <tr>\n",
              "      <th>mc</th>\n",
              "      <td>N</td>\n",
              "    </tr>\n",
              "    <tr>\n",
              "      <th>mcDate</th>\n",
              "      <td></td>\n",
              "    </tr>\n",
              "    <tr>\n",
              "      <th>accountName</th>\n",
              "      <td>01121674</td>\n",
              "    </tr>\n",
              "    <tr>\n",
              "      <th>usdMr3</th>\n",
              "      <td>0</td>\n",
              "    </tr>\n",
              "    <tr>\n",
              "      <th>hedging</th>\n",
              "      <td>Y</td>\n",
              "    </tr>\n",
              "    <tr>\n",
              "      <th>usableMargin3</th>\n",
              "      <td>49995.9</td>\n",
              "    </tr>\n",
              "    <tr>\n",
              "      <th>usableMarginPerc</th>\n",
              "      <td>100</td>\n",
              "    </tr>\n",
              "    <tr>\n",
              "      <th>usableMargin3Perc</th>\n",
              "      <td>100</td>\n",
              "    </tr>\n",
              "    <tr>\n",
              "      <th>equity</th>\n",
              "      <td>49995.9</td>\n",
              "    </tr>\n",
              "    <tr>\n",
              "      <th>usableMargin</th>\n",
              "      <td>49995.9</td>\n",
              "    </tr>\n",
              "    <tr>\n",
              "      <th>bus</th>\n",
              "      <td>1000</td>\n",
              "    </tr>\n",
              "    <tr>\n",
              "      <th>dayPL</th>\n",
              "      <td>-3.67</td>\n",
              "    </tr>\n",
              "    <tr>\n",
              "      <th>grossPL</th>\n",
              "      <td>0</td>\n",
              "    </tr>\n",
              "  </tbody>\n",
              "</table>\n",
              "</div>"
            ],
            "text/plain": [
              "                          0\n",
              "t                         6\n",
              "ratePrecision             0\n",
              "accountId           1121674\n",
              "balance             49995.9\n",
              "usdMr                     0\n",
              "mc                        N\n",
              "mcDate                     \n",
              "accountName        01121674\n",
              "usdMr3                    0\n",
              "hedging                   Y\n",
              "usableMargin3       49995.9\n",
              "usableMarginPerc        100\n",
              "usableMargin3Perc       100\n",
              "equity              49995.9\n",
              "usableMargin        49995.9\n",
              "bus                    1000\n",
              "dayPL                 -3.67\n",
              "grossPL                   0"
            ]
          },
          "metadata": {
            "tags": []
          },
          "execution_count": 84
        }
      ]
    }
  ]
}